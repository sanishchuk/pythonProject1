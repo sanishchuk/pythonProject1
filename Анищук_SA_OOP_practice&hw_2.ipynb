{
  "nbformat": 4,
  "nbformat_minor": 0,
  "metadata": {
    "colab": {
      "name": "Анищук_SA_OOP_practice&hw_2.ipynb",
      "provenance": [],
      "collapsed_sections": [],
      "include_colab_link": true
    },
    "kernelspec": {
      "name": "python3",
      "display_name": "Python 3"
    },
    "language_info": {
      "name": "python"
    }
  },
  "cells": [
    {
      "cell_type": "markdown",
      "metadata": {
        "id": "view-in-github",
        "colab_type": "text"
      },
      "source": [
        "<a href=\"https://colab.research.google.com/github/sanishchuk/pythonProject1/blob/master/%D0%90%D0%BD%D0%B8%D1%89%D1%83%D0%BA_SA_OOP_practice%26hw_2.ipynb\" target=\"_parent\"><img src=\"https://colab.research.google.com/assets/colab-badge.svg\" alt=\"Open In Colab\"/></a>"
      ]
    },
    {
      "cell_type": "markdown",
      "source": [
        "# Числа"
      ],
      "metadata": {
        "id": "MF1IPfJZ2vVq"
      }
    },
    {
      "cell_type": "markdown",
      "source": [
        "## Задача 1.\n",
        "Дано двузначное число. Определить входит ли в него цифра 5.\n",
        "\n",
        "Проверить вхождение элемента в последовательность можно с помошью оператора in\n",
        "```\n",
        "'a' in sequence\n",
        "```"
      ],
      "metadata": {
        "id": "sfHpCpOG2vVq"
      }
    },
    {
      "cell_type": "code",
      "source": [
        "a = input ()\n",
        "'5' in a"
      ],
      "metadata": {
        "colab": {
          "base_uri": "https://localhost:8080/"
        },
        "id": "jXGOleiEmgoG",
        "outputId": "b7eb042c-a10d-4c74-df53-d7971fd2f508"
      },
      "execution_count": null,
      "outputs": [
        {
          "name": "stdout",
          "output_type": "stream",
          "text": [
            "15\n"
          ]
        },
        {
          "output_type": "execute_result",
          "data": {
            "text/plain": [
              "True"
            ]
          },
          "metadata": {},
          "execution_count": 6
        }
      ]
    },
    {
      "cell_type": "markdown",
      "source": [
        "## Задача 2.\n",
        "Дано натуральное четырехзначное число. Выяснить, является ли оно палиндромом (читается одинаково слева направо и справа налево). \n"
      ],
      "metadata": {
        "id": "HphLaW-23Afk"
      }
    },
    {
      "cell_type": "code",
      "source": [
        "a = input ()\n",
        "lst = list (a)\n",
        "print (lst)\n",
        "if lst [0] == lst [3] and lst [1] == lst [2] : print ('da')\n",
        "else : print ('net')"
      ],
      "metadata": {
        "colab": {
          "base_uri": "https://localhost:8080/"
        },
        "id": "Lw0TsagtoyvK",
        "outputId": "3ac945ab-7d54-4569-82ae-d8ff47054d0c"
      },
      "execution_count": null,
      "outputs": [
        {
          "output_type": "stream",
          "name": "stdout",
          "text": [
            "1246\n",
            "['1', '2', '4', '6']\n",
            "net\n"
          ]
        }
      ]
    },
    {
      "cell_type": "markdown",
      "source": [
        "## Задача 3.\n",
        "Определить, является ли шестизначное число \"счастливым\" (сумма первых трех цифр равна сумме последних трех цифр).\n"
      ],
      "metadata": {
        "id": "beK0yPY43F_7"
      }
    },
    {
      "cell_type": "code",
      "source": [
        "string = input()\n",
        "print (string)\n",
        "a = string [0]\n",
        "b = string [1]\n",
        "c = string [2]\n",
        "d = string [3]\n",
        "e = string [4]\n",
        "f = string [5]\n",
        "\n",
        "if int(a) + int(b) + int (c) == int(d) + int(e) + int (f) : print ('da') \n",
        "else: print ('net')\n"
      ],
      "metadata": {
        "colab": {
          "base_uri": "https://localhost:8080/"
        },
        "id": "amVB4UhAqCmc",
        "outputId": "2478bae7-4166-4663-e830-54edee2e6e03"
      },
      "execution_count": null,
      "outputs": [
        {
          "output_type": "stream",
          "name": "stdout",
          "text": [
            "321123\n",
            "321123\n",
            "da\n"
          ]
        }
      ]
    },
    {
      "cell_type": "markdown",
      "source": [
        "# Строки"
      ],
      "metadata": {
        "id": "wB69JfbBtD6n"
      }
    },
    {
      "cell_type": "markdown",
      "source": [
        "## Задача 1.\n",
        "Напишите скрипт для вычисления длины введённой пользователем строки."
      ],
      "metadata": {
        "id": "vbPIJEUUs17I"
      }
    },
    {
      "cell_type": "code",
      "source": [
        "a = input ()\n",
        "len (a)"
      ],
      "metadata": {
        "colab": {
          "base_uri": "https://localhost:8080/"
        },
        "id": "YnzF1jIIyEft",
        "outputId": "72fc6719-b09b-4b22-ae54-124309a1472a"
      },
      "execution_count": null,
      "outputs": [
        {
          "name": "stdout",
          "output_type": "stream",
          "text": [
            "dfsdfsfd\n"
          ]
        },
        {
          "output_type": "execute_result",
          "data": {
            "text/plain": [
              "8"
            ]
          },
          "metadata": {},
          "execution_count": 39
        }
      ]
    },
    {
      "cell_type": "markdown",
      "source": [
        "## Задача 2.\n",
        "Напишите скрипт, чтобы получить строку, состоящую из первых 2 и последних 2 символов введённой строки. \n",
        "\n",
        "Все вводимые строки должны быть длинной строго больше 4 символовю\n",
        "\n",
        "```\n",
        "Образец строки: 'world'\n",
        "Ожидаемый результат: 'wold'\n",
        "```"
      ],
      "metadata": {
        "id": "klcJxmxUs-cK"
      }
    },
    {
      "cell_type": "code",
      "source": [
        "a = input ()\n",
        "print(a[:2] + a[-2:])"
      ],
      "metadata": {
        "colab": {
          "base_uri": "https://localhost:8080/"
        },
        "id": "0y5TSpf8yZ34",
        "outputId": "58ee7eaa-7351-48d1-95b3-aeffd1748b7e"
      },
      "execution_count": 8,
      "outputs": [
        {
          "output_type": "stream",
          "name": "stdout",
          "text": [
            "654654\n",
            "6554\n"
          ]
        }
      ]
    },
    {
      "cell_type": "code",
      "source": [
        ""
      ],
      "metadata": {
        "id": "UDJh1QqAyXHT"
      },
      "execution_count": null,
      "outputs": []
    },
    {
      "cell_type": "markdown",
      "source": [
        "## Задача 3.\n",
        "\n",
        "Напишите скрипт, чтобы заменить все пробелы в веденной строке на знак нижнего подчеркивания \"_\".\n",
        "\n",
        "```\n",
        "Ввод: 'мама мыла раму'\n",
        "Вывод: 'мама_мыла_раму'\n",
        "```"
      ],
      "metadata": {
        "id": "f_ynrvSOt3LB"
      }
    },
    {
      "cell_type": "code",
      "source": [
        " a = input ()\n",
        " a.replace(' ','_')"
      ],
      "metadata": {
        "colab": {
          "base_uri": "https://localhost:8080/",
          "height": 53
        },
        "id": "n78-adIGzHMz",
        "outputId": "233d47e7-9d02-4cb0-a87d-e3633c1734d0"
      },
      "execution_count": null,
      "outputs": [
        {
          "name": "stdout",
          "output_type": "stream",
          "text": [
            "в лесу родилась елочка\n"
          ]
        },
        {
          "output_type": "execute_result",
          "data": {
            "application/vnd.google.colaboratory.intrinsic+json": {
              "type": "string"
            },
            "text/plain": [
              "'в_лесу_родилась_елочка'"
            ]
          },
          "metadata": {},
          "execution_count": 44
        }
      ]
    },
    {
      "cell_type": "markdown",
      "source": [
        "# Задача 4.\n",
        "Напишите скрипт для удаления i-го символа индекса из непустой строки.\n",
        "\n",
        "```\n",
        "ввод: 'привет'\n",
        "ввод: 'удаляемы символ: 4'\n",
        "вывод: 'привт'\n",
        "```"
      ],
      "metadata": {
        "id": "1qbvZ2SyuhNx"
      }
    },
    {
      "cell_type": "code",
      "source": [
        "a = input('ввод: ')\n",
        "\n",
        "if len(a) == 0 : print ('пустая строка')\n",
        "else: b = int(input('удаляемый символ: '))\n",
        "\n",
        "aa = list (a)\n",
        "aa[b] = \"\"\n",
        "print(\"\".join(aa))\n"
      ],
      "metadata": {
        "colab": {
          "base_uri": "https://localhost:8080/"
        },
        "id": "k7VGsnJOzeix",
        "outputId": "60dabf1f-7d49-468a-8d9b-bc2734d4c1e7"
      },
      "execution_count": null,
      "outputs": [
        {
          "output_type": "stream",
          "name": "stdout",
          "text": [
            "ввод: 123123\n",
            "удаляемый символ: 3\n",
            "12323\n"
          ]
        }
      ]
    },
    {
      "cell_type": "markdown",
      "source": [
        "# Задача 5\n",
        "\n",
        "Напишите скрипт для создания строки HTML с тегами вокруг слов.\n",
        "\n",
        "```\n",
        "ввод: 'привет'\n",
        "ввод: 'тег: i'\n",
        "вывод: '<i>привет</i>'\n",
        "```"
      ],
      "metadata": {
        "id": "Zr1ZQY9Bvoxs"
      }
    },
    {
      "cell_type": "code",
      "metadata": {
        "id": "c72TJ1M2AfgZ",
        "colab": {
          "base_uri": "https://localhost:8080/"
        },
        "outputId": "8b6ed20c-3931-4b1a-ca08-1509f9f8da90"
      },
      "source": [
        "text = input(\"Введите текст: \")\n",
        "tag = input(\"Введите тег: \")\n",
        "print(\"<\" + tag + \">\" + text + \"</\" + tag + \">\")\n"
      ],
      "execution_count": null,
      "outputs": [
        {
          "output_type": "stream",
          "name": "stdout",
          "text": [
            "Введите текст: 123\n",
            "Введите тег: *\n",
            "<*>123</*>\n"
          ]
        }
      ]
    },
    {
      "cell_type": "markdown",
      "source": [
        "# Списки"
      ],
      "metadata": {
        "id": "Etp4mD_NwBhP"
      }
    },
    {
      "cell_type": "markdown",
      "source": [
        "## Задача 1.\n",
        "Найдите сумму списка из 20 элементов.\n",
        "\n",
        "Список можно создать с помощью range\n",
        "\n",
        "```\n",
        "ввод: начало списка\n",
        "ввод: конец списка\n",
        "вывод: результат\n",
        "```\n"
      ],
      "metadata": {
        "id": "sUPf-5uLwEZw"
      }
    },
    {
      "cell_type": "code",
      "source": [
        "n = 1  \n",
        "m = 20  \n",
        "\n",
        "print(sum(range(n, m)))"
      ],
      "metadata": {
        "colab": {
          "base_uri": "https://localhost:8080/"
        },
        "id": "AUluj2HTgtsT",
        "outputId": "31efc40a-231b-4a3b-c661-efce00510638"
      },
      "execution_count": null,
      "outputs": [
        {
          "output_type": "stream",
          "name": "stdout",
          "text": [
            "190\n"
          ]
        }
      ]
    },
    {
      "cell_type": "markdown",
      "source": [
        "## Задача 2.\n",
        "Получите наибольшее и наименьшее число, среднее значение чисел из случайного списка со случайным количеством элементов\n",
        "\n",
        "```\n",
        "пример: [1, 2, -8, 0]\n",
        "результат: 2 -8 -1.6\n",
        "```"
      ],
      "metadata": {
        "id": "rW4lirHqwEZw"
      }
    },
    {
      "cell_type": "code",
      "source": [
        "a = [1, 4, 56, 23, 5, -1, 0]\n",
        "print(max(a))\n",
        "print(min(a))\n",
        "print(sum(a)/len(a))"
      ],
      "metadata": {
        "colab": {
          "base_uri": "https://localhost:8080/"
        },
        "id": "i2Dv_CyGhQVv",
        "outputId": "53559492-a3de-4768-d6d0-34428bc99f90"
      },
      "execution_count": null,
      "outputs": [
        {
          "output_type": "stream",
          "name": "stdout",
          "text": [
            "56\n",
            "-1\n",
            "12.571428571428571\n"
          ]
        }
      ]
    },
    {
      "cell_type": "markdown",
      "source": [
        "## Задача 3.\n",
        "\n",
        "Напишите скрипт, для удаления дубликатов из списка.\n",
        "\n",
        "```\n",
        "Ввод: [1, 1, 2, 3]\n",
        "Вывод: [1, 2, 3]\n",
        "```"
      ],
      "metadata": {
        "id": "TWskHzVNwEZw"
      }
    },
    {
      "cell_type": "code",
      "source": [
        "a = [1, 4, 4, 56, 23, 5, -1, 0]\n",
        "b = set (a)\n",
        "print (b)"
      ],
      "metadata": {
        "colab": {
          "base_uri": "https://localhost:8080/"
        },
        "id": "MuCns-CLh_Vy",
        "outputId": "e9ada436-be2c-4982-d976-9120a3ba4c1a"
      },
      "execution_count": null,
      "outputs": [
        {
          "output_type": "stream",
          "name": "stdout",
          "text": [
            "{0, 1, 4, 5, 23, 56, -1}\n"
          ]
        }
      ]
    },
    {
      "cell_type": "markdown",
      "source": [
        "# Задача 4.\n",
        "Напишите скрипт для преобразования списка в строку.\n",
        "\n",
        "```\n",
        "ввод: ['a', 'b', 'c', 'd']\n",
        "вывод: 'abcd'\n",
        "```"
      ],
      "metadata": {
        "id": "lrOp86HFwEZx"
      }
    },
    {
      "cell_type": "code",
      "source": [
        "a = input ()\n",
        "b = list(a)\n",
        "print (b)\n",
        "print(\"\".join(b))"
      ],
      "metadata": {
        "colab": {
          "base_uri": "https://localhost:8080/"
        },
        "id": "DaxBMtdmikAS",
        "outputId": "ead8f81a-2b66-4803-c415-a932358ad670"
      },
      "execution_count": null,
      "outputs": [
        {
          "output_type": "stream",
          "name": "stdout",
          "text": [
            "fdf sdf sd fs\n",
            "['f', 'd', 'f', ' ', 's', 'd', 'f', ' ', 's', 'd', ' ', 'f', 's']\n",
            "fdf sdf sd fs\n"
          ]
        }
      ]
    },
    {
      "cell_type": "markdown",
      "source": [
        "# Задача 5\n",
        "\n",
        "Напишите скрипт для удаления i-го элемента из списка.\n",
        "\n",
        "```\n",
        "ввод: ['h', 'e', 'l', 'l', 'o']\n",
        "ввод: 1\n",
        "вывод: ['h', 'l', 'l', 'o']\n",
        "```"
      ],
      "metadata": {
        "id": "oCcIL8K8wEZx"
      }
    },
    {
      "cell_type": "code",
      "source": [
        "b = list(input())\n",
        "print (b)\n",
        "c = int(input ())\n",
        "b.pop (c)\n",
        "print (b)"
      ],
      "metadata": {
        "colab": {
          "base_uri": "https://localhost:8080/"
        },
        "id": "u2OXUAGWjy0C",
        "outputId": "249d9807-e29d-4510-cf0e-e9e58733a9cd"
      },
      "execution_count": null,
      "outputs": [
        {
          "output_type": "stream",
          "name": "stdout",
          "text": [
            "456\n",
            "['4', '5', '6']\n",
            "2\n",
            "['4', '5']\n"
          ]
        }
      ]
    },
    {
      "cell_type": "markdown",
      "source": [
        "# Кортежи"
      ],
      "metadata": {
        "id": "hJnwoT-XySCA"
      }
    },
    {
      "cell_type": "markdown",
      "source": [
        "## Задача 1.\n",
        "Выведите i-ый элемент кортежа\n",
        "\n",
        "Кортеж можно создать с помощью range\n",
        "\n",
        "```\n",
        "ввод: начало кортежа\n",
        "ввод: конец кортежа\n",
        "ввод: элемент\n",
        "вывод: результат\n",
        "```\n"
      ],
      "metadata": {
        "id": "MtabCWGXySCA"
      }
    },
    {
      "cell_type": "code",
      "source": [
        "a = 1\n",
        "b = 10\n",
        "c = tuple(range(a,b))\n",
        "print (c)\n",
        "i = 4\n",
        "print(c[i])"
      ],
      "metadata": {
        "colab": {
          "base_uri": "https://localhost:8080/"
        },
        "id": "zdieyRpPl2Y3",
        "outputId": "0ee9bd39-4b1f-4497-ef1a-2cb21187350e"
      },
      "execution_count": null,
      "outputs": [
        {
          "output_type": "stream",
          "name": "stdout",
          "text": [
            "(1, 2, 3, 4, 5, 6, 7, 8, 9)\n",
            "5\n"
          ]
        }
      ]
    },
    {
      "cell_type": "markdown",
      "source": [
        "## Задача 2.\n",
        "Напишите скрипт для проверки наличия элемента в кортеже.\n",
        "\n",
        "```\n",
        "пример: [1, 2, -8, 0]\n",
        "ввод: '2'\n",
        "результат: False\n",
        "\n",
        "пример: [1, 2, -8, 0]\n",
        "ввод: 2\n",
        "результат: True\n",
        "\n",
        "```"
      ],
      "metadata": {
        "id": "qdajkNfiySCA"
      }
    },
    {
      "cell_type": "markdown",
      "source": [
        "## Задача 3.\n",
        "\n",
        "Напишите скрипт, для поиска индекса первого вхождения элемента.\n",
        "\n",
        "```\n",
        "Ввод: (1, 1, 2, 3)\n",
        "Ввод: 2\n",
        "Вывод: 2\n",
        "```"
      ],
      "metadata": {
        "id": "kBhJy4eoySCB"
      }
    },
    {
      "cell_type": "code",
      "source": [
        "a = (1,2,3,4,5)\n",
        "print(a)\n",
        "i = int(input())\n",
        "\n",
        "b = a.index(i)\n",
        "print(b)\n",
        "\n",
        "\n"
      ],
      "metadata": {
        "colab": {
          "base_uri": "https://localhost:8080/"
        },
        "id": "tmhyiQ0Zpaqo",
        "outputId": "17e9e7f7-9186-4c9f-d6d4-2617644e8608"
      },
      "execution_count": null,
      "outputs": [
        {
          "output_type": "stream",
          "name": "stdout",
          "text": [
            "(1, 2, 3, 4, 5)\n",
            "4\n",
            "3\n"
          ]
        }
      ]
    },
    {
      "cell_type": "markdown",
      "source": [
        "# Задача 4.\n",
        "Выведите содержимое кортежа в обратном порядке.\n",
        "\n",
        "```\n",
        "ввод: ('a', 'b', 'c', 'd')\n",
        "вывод: ('d', 'c', 'b', 'a')\n",
        "```"
      ],
      "metadata": {
        "id": "j2uzyV6EySCB"
      }
    },
    {
      "cell_type": "code",
      "source": [
        "aa = 'abcd'\n",
        "a=tuple(aa)\n",
        "print(a)\n",
        "b=list(a)\n",
        "print(b)\n",
        "b.reverse()\n",
        "print(b)\n",
        "a=tuple(b)\n",
        "print(a)"
      ],
      "metadata": {
        "colab": {
          "base_uri": "https://localhost:8080/"
        },
        "id": "i_FphE6Bt1Lp",
        "outputId": "74919c28-cd1e-4263-bc2b-ad4f870b29b4"
      },
      "execution_count": null,
      "outputs": [
        {
          "output_type": "stream",
          "name": "stdout",
          "text": [
            "('a', 'b', 'c', 'd')\n",
            "['a', 'b', 'c', 'd']\n",
            "['d', 'c', 'b', 'a']\n",
            "('d', 'c', 'b', 'a')\n"
          ]
        }
      ]
    },
    {
      "cell_type": "markdown",
      "source": [
        "# Задача 5\n",
        "\n",
        "Напишите скрипт для для печатания элемента с его типом данных.\n",
        "\n",
        "Сделать пример для каждого изученного типа данных\n",
        "\n",
        "```\n",
        "ввод: ('h', 'e', 'l', 'l', 'o')\n",
        "вывод: tuple ('h', 'e', 'l', 'l', 'o')\n",
        "\n",
        "ввод: ['h', 'e', 'l', 'l', 'o']\n",
        "вывод: list ['h', 'e', 'l', 'l', 'o']\n",
        "\n",
        "\n",
        "```"
      ],
      "metadata": {
        "id": "Mg6dbSy5ySCB"
      }
    },
    {
      "cell_type": "code",
      "source": [
        "a = input()\n",
        "print ('stroka: ', str(a), type(str(a)))\n",
        "print ('spisok: ', list(a), type(list(a)))\n",
        "print ('kortez: ', tuple(a), type(tuple(a)))"
      ],
      "metadata": {
        "colab": {
          "base_uri": "https://localhost:8080/"
        },
        "id": "Sloy1xnuu9Nu",
        "outputId": "c1c80d27-9f4f-4bc1-a4f1-23e92f749eba"
      },
      "execution_count": null,
      "outputs": [
        {
          "output_type": "stream",
          "name": "stdout",
          "text": [
            "123456\n",
            "stroka:  123456 <class 'str'>\n",
            "spisok:  ['1', '2', '3', '4', '5', '6'] <class 'list'>\n",
            "kortez:  ('1', '2', '3', '4', '5', '6') <class 'tuple'>\n"
          ]
        }
      ]
    },
    {
      "cell_type": "markdown",
      "source": [
        "# Словари"
      ],
      "metadata": {
        "id": "acYXmKZC1SAN"
      }
    },
    {
      "cell_type": "markdown",
      "source": [
        "## Задача 1.\n",
        "Напишите скрипт для добавления ключа в словарь.\n",
        "\n",
        "```\n",
        "словарь: {1: 20, 3: 30}\n",
        "ввод: ключ \n",
        "ввод: значение\n",
        "вывод: {1: 20, 3: 30, ключ:значение}\n",
        "```\n"
      ],
      "metadata": {
        "id": "t_o73Oio1SAN"
      }
    },
    {
      "cell_type": "code",
      "source": [
        "dict_ = {\n",
        "    1: 20, \n",
        "    3: 30, \n",
        "}\n",
        "print(dict_, type(dict_))\n",
        "kluc = input ()\n",
        "znac = input ()\n",
        "dict_[kluc] = znac\n",
        "print(dict_, type(dict_))"
      ],
      "metadata": {
        "colab": {
          "base_uri": "https://localhost:8080/"
        },
        "id": "MoBvmsBXw5nZ",
        "outputId": "71911ea1-c6bc-4c6e-f6d0-232e62580fe1"
      },
      "execution_count": null,
      "outputs": [
        {
          "output_type": "stream",
          "name": "stdout",
          "text": [
            "{1: 20, 3: 30} <class 'dict'>\n",
            "22\n",
            "33\n",
            "{1: 20, 3: 30, '22': '33'} <class 'dict'>\n"
          ]
        }
      ]
    },
    {
      "cell_type": "markdown",
      "source": [
        "## Задача 2.\n",
        "Напишите скрипт для суммирования всех значений словаря.\n",
        "\n",
        "```\n",
        "пример: {'data1':123,'data2':-54,'data3':321}\n",
        "результат: 390\n",
        "\n",
        "```"
      ],
      "metadata": {
        "id": "z8P4_I--1SAO"
      }
    },
    {
      "cell_type": "code",
      "source": [
        "dict_ = {\n",
        "    1: 20, \n",
        "    3: 30, \n",
        "    5: 44}\n",
        "print(sum(list(dict_.values())))"
      ],
      "metadata": {
        "colab": {
          "base_uri": "https://localhost:8080/"
        },
        "id": "1zBXFHkXyc-p",
        "outputId": "5fa5dff2-8727-4617-e54d-077ba89f152c"
      },
      "execution_count": null,
      "outputs": [
        {
          "output_type": "stream",
          "name": "stdout",
          "text": [
            "94\n"
          ]
        }
      ]
    }
  ]
}